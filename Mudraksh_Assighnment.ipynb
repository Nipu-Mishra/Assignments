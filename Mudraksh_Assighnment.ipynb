{
  "nbformat": 4,
  "nbformat_minor": 0,
  "metadata": {
    "colab": {
      "provenance": [],
      "mount_file_id": "1qpuxdwe0mFEuzL4VEi-UDmD_4TxeKWG6",
      "authorship_tag": "ABX9TyMwbuC45r8PnBW6bjmE+Q6e",
      "include_colab_link": true
    },
    "kernelspec": {
      "name": "python3",
      "display_name": "Python 3"
    },
    "language_info": {
      "name": "python"
    }
  },
  "cells": [
    {
      "cell_type": "markdown",
      "metadata": {
        "id": "view-in-github",
        "colab_type": "text"
      },
      "source": [
        "<a href=\"https://colab.research.google.com/github/Nipu-Mishra/Assignments/blob/main/Mudraksh_Assighnment.ipynb\" target=\"_parent\"><img src=\"https://colab.research.google.com/assets/colab-badge.svg\" alt=\"Open In Colab\"/></a>"
      ]
    },
    {
      "cell_type": "markdown",
      "source": [
        "1) Use pandas to read the data from the csvs only if they have\n",
        "‘closePosition’ in their name. The important columns needed are\n",
        ": [‘Key’, ’ExitTime’, ’Symbol’, ’EntryPrice’, ’Quantity’, ’Pnl’]. Add\n",
        "an additional column in the dataframe called ‘Date’, where the\n",
        "values should be the dates extracted from the ‘ExitTime’ column.\n",
        "Save the data in a pandas dataframe, and append the data from\n",
        "each csv into the existing data. The final dataframe should have\n",
        "entries from all the csvs merged together.\n",
        "Save this dataframe as a csv file with the name\n",
        "‘combined_closePosition.csv’.\n"
      ],
      "metadata": {
        "id": "Uw-txVfsmkI6"
      }
    },
    {
      "cell_type": "code",
      "execution_count": null,
      "metadata": {
        "id": "EH89koaMmhQc"
      },
      "outputs": [],
      "source": [
        "# Import the libraries\n",
        "import pandas as pd\n",
        "import numpy as np\n",
        "from glob import glob\n",
        "import os\n",
        "import matplotlib.pyplot as plt"
      ]
    },
    {
      "cell_type": "code",
      "source": [
        "# Load the data\n",
        "data = pd.read_csv('/content/Stocks_data2.csv')                "
      ],
      "metadata": {
        "id": "thEQj0W5qMWN"
      },
      "execution_count": null,
      "outputs": []
    },
    {
      "cell_type": "code",
      "source": [
        "# Show the data\n",
        "data"
      ],
      "metadata": {
        "id": "6QS1_Isgqyj8"
      },
      "execution_count": null,
      "outputs": []
    },
    {
      "cell_type": "code",
      "source": [
        "# Create a new 'Date' column\n",
        "data['Date'] = data['ExitTime']"
      ],
      "metadata": {
        "id": "VVThBS4Zrve1"
      },
      "execution_count": null,
      "outputs": []
    },
    {
      "cell_type": "code",
      "source": [
        "# Change the position of Date column\n",
        "titles = ['Date','Key','ExitTime','Symbol','EntryPrice','ExitPrice','Quantity','Pnl','ExitType','SignalType']\n",
        "data = data[titles]\n",
        "data"
      ],
      "metadata": {
        "id": "zpq4eh0xvxjM"
      },
      "execution_count": null,
      "outputs": []
    },
    {
      "cell_type": "code",
      "source": [
        "# Store data into the dataframe\n",
        "df = pd.DataFrame(data)"
      ],
      "metadata": {
        "id": "PPmglNAasPL_"
      },
      "execution_count": null,
      "outputs": []
    },
    {
      "cell_type": "code",
      "source": [
        "# Save this dataframe as a csv file with the name ‘combined_closePosition.csv’.\n",
        "df = df.to_csv('combined_closePosition.csv')"
      ],
      "metadata": {
        "id": "h6I6oEs0Ydjp"
      },
      "execution_count": null,
      "outputs": []
    },
    {
      "cell_type": "markdown",
      "source": [
        "2) Using the combined dataframe, calculate the following values.\n",
        "a) Total trades - The total number of entries in the final\n",
        "dataframe\n",
        "b) Unique days - The number of unique dates in the ‘Date’\n",
        "column\n",
        "c) Average trades - Total trades / Unique Days\n",
        "d) Total Pnl - Sum of the Pnl column\n",
        "e) Profit Trades - Number of entries where Pnl > 0\n",
        "f) Loss Trades - Number of entries where Pnl <= 0\n",
        "Save these values in a txt file named ‘combined_stats.txt’, with\n",
        "the respective names given above.\n",
        "\n"
      ],
      "metadata": {
        "id": "edlNBoiC5_vz"
      }
    },
    {
      "cell_type": "code",
      "source": [
        "# a) Total trades - The total number of entries in the final dataframe\n",
        "print('total no. of entries is',df.shape[0])"
      ],
      "metadata": {
        "id": "yyfJh58A5_QO"
      },
      "execution_count": null,
      "outputs": []
    },
    {
      "cell_type": "code",
      "source": [
        "# b) Unique days - The number of unique dates in the ‘Date’ column\n",
        "print('total no. of unique date in the Date Column is ',df['Date'].nunique())"
      ],
      "metadata": {
        "id": "4e67AvQ984kg"
      },
      "execution_count": null,
      "outputs": []
    },
    {
      "cell_type": "code",
      "source": [
        "# c) Average trades - Total trades / Unique Days\n",
        "\n",
        "avg_trades = df.shape[0] / df['Date'].nunique()\n",
        "avg_trades"
      ],
      "metadata": {
        "id": "jGhvfXXY9Sc_"
      },
      "execution_count": null,
      "outputs": []
    },
    {
      "cell_type": "code",
      "source": [
        "# d) Total Pnl - Sum of the Pnl column\n",
        "print('Sum of the Pnl column is ',df['Pnl'].sum())"
      ],
      "metadata": {
        "id": "mHDW_9Fz-T9w"
      },
      "execution_count": null,
      "outputs": []
    },
    {
      "cell_type": "code",
      "source": [
        "# e)Profit Trades - Number of entries where Pnl > 0\n",
        "df[df.Pnl>0]"
      ],
      "metadata": {
        "id": "98Uc4_gz-yTQ"
      },
      "execution_count": null,
      "outputs": []
    },
    {
      "cell_type": "code",
      "source": [
        "# f) Loss Trades - Number of entries where Pnl <= 0\n",
        "df[df.Pnl<=0]"
      ],
      "metadata": {
        "colab": {
          "base_uri": "https://localhost:8080/",
          "height": 143
        },
        "id": "hdxH--xu-3Na",
        "outputId": "e3d9f0e1-313c-46c1-a39d-366ec97dd050"
      },
      "execution_count": null,
      "outputs": [
        {
          "output_type": "execute_result",
          "data": {
            "text/plain": [
              "             Date             Key        ExitTime                   Symbol  \\\n",
              "2  8/3/2020 10:16   8/3/2020 9:20  8/3/2020 10:16  BANKNIFTY06AUG2021200CE   \n",
              "4  8/3/2020 10:49  8/3/2020 10:25  8/3/2020 10:49      NIFTY06AUG2011000PE   \n",
              "5  8/3/2020 12:26  8/3/2020 10:52  8/3/2020 12:26      NIFTY06AUG2010950PE   \n",
              "\n",
              "   EntryPrice  ExitPrice  Quantity     Pnl ExitType  SignalType  \n",
              "2      441.15     472.15       -25 -775.00    SlHit  VolPattern  \n",
              "4      113.00     117.95       -75 -371.25    SlHit  VolPattern  \n",
              "5       88.70      92.80       -75 -307.50    SlHit  VolPattern  "
            ],
            "text/html": [
              "\n",
              "  <div id=\"df-db213263-be45-427b-9f5c-5878d974a126\">\n",
              "    <div class=\"colab-df-container\">\n",
              "      <div>\n",
              "<style scoped>\n",
              "    .dataframe tbody tr th:only-of-type {\n",
              "        vertical-align: middle;\n",
              "    }\n",
              "\n",
              "    .dataframe tbody tr th {\n",
              "        vertical-align: top;\n",
              "    }\n",
              "\n",
              "    .dataframe thead th {\n",
              "        text-align: right;\n",
              "    }\n",
              "</style>\n",
              "<table border=\"1\" class=\"dataframe\">\n",
              "  <thead>\n",
              "    <tr style=\"text-align: right;\">\n",
              "      <th></th>\n",
              "      <th>Date</th>\n",
              "      <th>Key</th>\n",
              "      <th>ExitTime</th>\n",
              "      <th>Symbol</th>\n",
              "      <th>EntryPrice</th>\n",
              "      <th>ExitPrice</th>\n",
              "      <th>Quantity</th>\n",
              "      <th>Pnl</th>\n",
              "      <th>ExitType</th>\n",
              "      <th>SignalType</th>\n",
              "    </tr>\n",
              "  </thead>\n",
              "  <tbody>\n",
              "    <tr>\n",
              "      <th>2</th>\n",
              "      <td>8/3/2020 10:16</td>\n",
              "      <td>8/3/2020 9:20</td>\n",
              "      <td>8/3/2020 10:16</td>\n",
              "      <td>BANKNIFTY06AUG2021200CE</td>\n",
              "      <td>441.15</td>\n",
              "      <td>472.15</td>\n",
              "      <td>-25</td>\n",
              "      <td>-775.00</td>\n",
              "      <td>SlHit</td>\n",
              "      <td>VolPattern</td>\n",
              "    </tr>\n",
              "    <tr>\n",
              "      <th>4</th>\n",
              "      <td>8/3/2020 10:49</td>\n",
              "      <td>8/3/2020 10:25</td>\n",
              "      <td>8/3/2020 10:49</td>\n",
              "      <td>NIFTY06AUG2011000PE</td>\n",
              "      <td>113.00</td>\n",
              "      <td>117.95</td>\n",
              "      <td>-75</td>\n",
              "      <td>-371.25</td>\n",
              "      <td>SlHit</td>\n",
              "      <td>VolPattern</td>\n",
              "    </tr>\n",
              "    <tr>\n",
              "      <th>5</th>\n",
              "      <td>8/3/2020 12:26</td>\n",
              "      <td>8/3/2020 10:52</td>\n",
              "      <td>8/3/2020 12:26</td>\n",
              "      <td>NIFTY06AUG2010950PE</td>\n",
              "      <td>88.70</td>\n",
              "      <td>92.80</td>\n",
              "      <td>-75</td>\n",
              "      <td>-307.50</td>\n",
              "      <td>SlHit</td>\n",
              "      <td>VolPattern</td>\n",
              "    </tr>\n",
              "  </tbody>\n",
              "</table>\n",
              "</div>\n",
              "      <button class=\"colab-df-convert\" onclick=\"convertToInteractive('df-db213263-be45-427b-9f5c-5878d974a126')\"\n",
              "              title=\"Convert this dataframe to an interactive table.\"\n",
              "              style=\"display:none;\">\n",
              "        \n",
              "  <svg xmlns=\"http://www.w3.org/2000/svg\" height=\"24px\"viewBox=\"0 0 24 24\"\n",
              "       width=\"24px\">\n",
              "    <path d=\"M0 0h24v24H0V0z\" fill=\"none\"/>\n",
              "    <path d=\"M18.56 5.44l.94 2.06.94-2.06 2.06-.94-2.06-.94-.94-2.06-.94 2.06-2.06.94zm-11 1L8.5 8.5l.94-2.06 2.06-.94-2.06-.94L8.5 2.5l-.94 2.06-2.06.94zm10 10l.94 2.06.94-2.06 2.06-.94-2.06-.94-.94-2.06-.94 2.06-2.06.94z\"/><path d=\"M17.41 7.96l-1.37-1.37c-.4-.4-.92-.59-1.43-.59-.52 0-1.04.2-1.43.59L10.3 9.45l-7.72 7.72c-.78.78-.78 2.05 0 2.83L4 21.41c.39.39.9.59 1.41.59.51 0 1.02-.2 1.41-.59l7.78-7.78 2.81-2.81c.8-.78.8-2.07 0-2.86zM5.41 20L4 18.59l7.72-7.72 1.47 1.35L5.41 20z\"/>\n",
              "  </svg>\n",
              "      </button>\n",
              "      \n",
              "  <style>\n",
              "    .colab-df-container {\n",
              "      display:flex;\n",
              "      flex-wrap:wrap;\n",
              "      gap: 12px;\n",
              "    }\n",
              "\n",
              "    .colab-df-convert {\n",
              "      background-color: #E8F0FE;\n",
              "      border: none;\n",
              "      border-radius: 50%;\n",
              "      cursor: pointer;\n",
              "      display: none;\n",
              "      fill: #1967D2;\n",
              "      height: 32px;\n",
              "      padding: 0 0 0 0;\n",
              "      width: 32px;\n",
              "    }\n",
              "\n",
              "    .colab-df-convert:hover {\n",
              "      background-color: #E2EBFA;\n",
              "      box-shadow: 0px 1px 2px rgba(60, 64, 67, 0.3), 0px 1px 3px 1px rgba(60, 64, 67, 0.15);\n",
              "      fill: #174EA6;\n",
              "    }\n",
              "\n",
              "    [theme=dark] .colab-df-convert {\n",
              "      background-color: #3B4455;\n",
              "      fill: #D2E3FC;\n",
              "    }\n",
              "\n",
              "    [theme=dark] .colab-df-convert:hover {\n",
              "      background-color: #434B5C;\n",
              "      box-shadow: 0px 1px 3px 1px rgba(0, 0, 0, 0.15);\n",
              "      filter: drop-shadow(0px 1px 2px rgba(0, 0, 0, 0.3));\n",
              "      fill: #FFFFFF;\n",
              "    }\n",
              "  </style>\n",
              "\n",
              "      <script>\n",
              "        const buttonEl =\n",
              "          document.querySelector('#df-db213263-be45-427b-9f5c-5878d974a126 button.colab-df-convert');\n",
              "        buttonEl.style.display =\n",
              "          google.colab.kernel.accessAllowed ? 'block' : 'none';\n",
              "\n",
              "        async function convertToInteractive(key) {\n",
              "          const element = document.querySelector('#df-db213263-be45-427b-9f5c-5878d974a126');\n",
              "          const dataTable =\n",
              "            await google.colab.kernel.invokeFunction('convertToInteractive',\n",
              "                                                     [key], {});\n",
              "          if (!dataTable) return;\n",
              "\n",
              "          const docLinkHtml = 'Like what you see? Visit the ' +\n",
              "            '<a target=\"_blank\" href=https://colab.research.google.com/notebooks/data_table.ipynb>data table notebook</a>'\n",
              "            + ' to learn more about interactive tables.';\n",
              "          element.innerHTML = '';\n",
              "          dataTable['output_type'] = 'display_data';\n",
              "          await google.colab.output.renderOutput(dataTable, element);\n",
              "          const docLink = document.createElement('div');\n",
              "          docLink.innerHTML = docLinkHtml;\n",
              "          element.appendChild(docLink);\n",
              "        }\n",
              "      </script>\n",
              "    </div>\n",
              "  </div>\n",
              "  "
            ]
          },
          "metadata": {},
          "execution_count": 35
        }
      ]
    },
    {
      "cell_type": "code",
      "source": [
        "# g) Save these values in a txt file named ‘combined_stats.txt’, with the respective names given above.\n",
        "df.to_csv('combined_stats.txt')"
      ],
      "metadata": {
        "id": "zLPYn5ySCcMA"
      },
      "execution_count": null,
      "outputs": []
    },
    {
      "cell_type": "markdown",
      "source": [
        "3) Using the combined dataframe , now calculate the top n\n",
        "winning/losing streaks. First, ensure the dataframe is sorted by the\n",
        "‘ExitTime’ column.\n",
        "A winning streak is defined as the number of consecutive trades in\n",
        "which the Pnl > 0. Similarly, a losing streak is defined as the number\n",
        "of consecutive trades in which the Pnl < 0. Calculate all such streaks,\n",
        "and then sort by the total Pnl in each individual streak. The top\n",
        "winning streak will be the one where the total Pnl of all trades in the\n",
        "streak is the highest, whereas the top losing streak will be the one\n",
        "where the total Pnl of all trades is the lowest.\n",
        "The value of n should be input from the terminal, and then the top n\n",
        "winning/losing streaks should be saved in a txt file named\n",
        "combined_winning_losing.txt with the following format -\n",
        "Top n winning streaks\n",
        "1) No. of Trades Start Date - End Date Pnl of Streak\n",
        "2) No. of Trades Start Date - End Date Pnl of Streak\n",
        "Top n losing streaks\n",
        "1) No. of Trades Start Date - End Date Pnl of Streak\n",
        "2) No. of Trades Start Date - End Date Pnl of Streak\n",
        "\n",
        "For question number 3 in the PDF, input for n is as follows -\n",
        "\n",
        "n = 3, 4, 5, 6, 7\n"
      ],
      "metadata": {
        "id": "PO5ppv6-LLvx"
      }
    },
    {
      "cell_type": "code",
      "source": [
        "df['ExitTime'].sort_values()"
      ],
      "metadata": {
        "colab": {
          "base_uri": "https://localhost:8080/"
        },
        "id": "-0FZPNtvTkOC",
        "outputId": "407ed557-54c2-4728-866a-bc1a1de3f78e"
      },
      "execution_count": null,
      "outputs": [
        {
          "output_type": "execute_result",
          "data": {
            "text/plain": [
              "2    8/3/2020 10:16\n",
              "4    8/3/2020 10:49\n",
              "5    8/3/2020 12:26\n",
              "0    8/3/2020 12:33\n",
              "1    8/3/2020 12:33\n",
              "3    8/3/2020 12:59\n",
              "Name: ExitTime, dtype: object"
            ]
          },
          "metadata": {},
          "execution_count": 18
        }
      ]
    },
    {
      "cell_type": "code",
      "source": [
        "# A winning streak is defined as the number of consecutive trades in which the Pnl > 0\n",
        "winning_streak = df[df['Pnl'].sort_values(ascending = False) > 0]\n",
        "winning_streak"
      ],
      "metadata": {
        "colab": {
          "base_uri": "https://localhost:8080/",
          "height": 178
        },
        "id": "h3kFDWRW6H1s",
        "outputId": "51d6d726-51a2-4875-a8bc-58b386a2c309"
      },
      "execution_count": null,
      "outputs": [
        {
          "output_type": "stream",
          "name": "stderr",
          "text": [
            "<ipython-input-34-33c676842c4b>:2: UserWarning: Boolean Series key will be reindexed to match DataFrame index.\n",
            "  winning_streak = df[df['Pnl'].sort_values(ascending = False) > 0]\n"
          ]
        },
        {
          "output_type": "execute_result",
          "data": {
            "text/plain": [
              "             Date             Key        ExitTime                   Symbol  \\\n",
              "0  8/3/2020 12:33   8/3/2020 9:27  8/3/2020 12:33      NIFTY06AUG2010950CE   \n",
              "1  8/3/2020 12:33   8/3/2020 9:27  8/3/2020 12:33      NIFTY06AUG2010950CE   \n",
              "3  8/3/2020 12:59  8/3/2020 10:40  8/3/2020 12:59  BANKNIFTY06AUG2021200CE   \n",
              "\n",
              "   EntryPrice  ExitPrice  Quantity     Pnl    ExitType  SignalType  \n",
              "0      119.20      88.90       -75  2272.5  Target hit  VolPattern  \n",
              "1      119.20      88.90       -75  2272.5  Target hit  VolPattern  \n",
              "3      428.05     301.15       -25  3172.5  Target hit  VolPattern  "
            ],
            "text/html": [
              "\n",
              "  <div id=\"df-ecf0f4f1-c650-4722-8ed9-bc54c71ac6ff\">\n",
              "    <div class=\"colab-df-container\">\n",
              "      <div>\n",
              "<style scoped>\n",
              "    .dataframe tbody tr th:only-of-type {\n",
              "        vertical-align: middle;\n",
              "    }\n",
              "\n",
              "    .dataframe tbody tr th {\n",
              "        vertical-align: top;\n",
              "    }\n",
              "\n",
              "    .dataframe thead th {\n",
              "        text-align: right;\n",
              "    }\n",
              "</style>\n",
              "<table border=\"1\" class=\"dataframe\">\n",
              "  <thead>\n",
              "    <tr style=\"text-align: right;\">\n",
              "      <th></th>\n",
              "      <th>Date</th>\n",
              "      <th>Key</th>\n",
              "      <th>ExitTime</th>\n",
              "      <th>Symbol</th>\n",
              "      <th>EntryPrice</th>\n",
              "      <th>ExitPrice</th>\n",
              "      <th>Quantity</th>\n",
              "      <th>Pnl</th>\n",
              "      <th>ExitType</th>\n",
              "      <th>SignalType</th>\n",
              "    </tr>\n",
              "  </thead>\n",
              "  <tbody>\n",
              "    <tr>\n",
              "      <th>0</th>\n",
              "      <td>8/3/2020 12:33</td>\n",
              "      <td>8/3/2020 9:27</td>\n",
              "      <td>8/3/2020 12:33</td>\n",
              "      <td>NIFTY06AUG2010950CE</td>\n",
              "      <td>119.20</td>\n",
              "      <td>88.90</td>\n",
              "      <td>-75</td>\n",
              "      <td>2272.5</td>\n",
              "      <td>Target hit</td>\n",
              "      <td>VolPattern</td>\n",
              "    </tr>\n",
              "    <tr>\n",
              "      <th>1</th>\n",
              "      <td>8/3/2020 12:33</td>\n",
              "      <td>8/3/2020 9:27</td>\n",
              "      <td>8/3/2020 12:33</td>\n",
              "      <td>NIFTY06AUG2010950CE</td>\n",
              "      <td>119.20</td>\n",
              "      <td>88.90</td>\n",
              "      <td>-75</td>\n",
              "      <td>2272.5</td>\n",
              "      <td>Target hit</td>\n",
              "      <td>VolPattern</td>\n",
              "    </tr>\n",
              "    <tr>\n",
              "      <th>3</th>\n",
              "      <td>8/3/2020 12:59</td>\n",
              "      <td>8/3/2020 10:40</td>\n",
              "      <td>8/3/2020 12:59</td>\n",
              "      <td>BANKNIFTY06AUG2021200CE</td>\n",
              "      <td>428.05</td>\n",
              "      <td>301.15</td>\n",
              "      <td>-25</td>\n",
              "      <td>3172.5</td>\n",
              "      <td>Target hit</td>\n",
              "      <td>VolPattern</td>\n",
              "    </tr>\n",
              "  </tbody>\n",
              "</table>\n",
              "</div>\n",
              "      <button class=\"colab-df-convert\" onclick=\"convertToInteractive('df-ecf0f4f1-c650-4722-8ed9-bc54c71ac6ff')\"\n",
              "              title=\"Convert this dataframe to an interactive table.\"\n",
              "              style=\"display:none;\">\n",
              "        \n",
              "  <svg xmlns=\"http://www.w3.org/2000/svg\" height=\"24px\"viewBox=\"0 0 24 24\"\n",
              "       width=\"24px\">\n",
              "    <path d=\"M0 0h24v24H0V0z\" fill=\"none\"/>\n",
              "    <path d=\"M18.56 5.44l.94 2.06.94-2.06 2.06-.94-2.06-.94-.94-2.06-.94 2.06-2.06.94zm-11 1L8.5 8.5l.94-2.06 2.06-.94-2.06-.94L8.5 2.5l-.94 2.06-2.06.94zm10 10l.94 2.06.94-2.06 2.06-.94-2.06-.94-.94-2.06-.94 2.06-2.06.94z\"/><path d=\"M17.41 7.96l-1.37-1.37c-.4-.4-.92-.59-1.43-.59-.52 0-1.04.2-1.43.59L10.3 9.45l-7.72 7.72c-.78.78-.78 2.05 0 2.83L4 21.41c.39.39.9.59 1.41.59.51 0 1.02-.2 1.41-.59l7.78-7.78 2.81-2.81c.8-.78.8-2.07 0-2.86zM5.41 20L4 18.59l7.72-7.72 1.47 1.35L5.41 20z\"/>\n",
              "  </svg>\n",
              "      </button>\n",
              "      \n",
              "  <style>\n",
              "    .colab-df-container {\n",
              "      display:flex;\n",
              "      flex-wrap:wrap;\n",
              "      gap: 12px;\n",
              "    }\n",
              "\n",
              "    .colab-df-convert {\n",
              "      background-color: #E8F0FE;\n",
              "      border: none;\n",
              "      border-radius: 50%;\n",
              "      cursor: pointer;\n",
              "      display: none;\n",
              "      fill: #1967D2;\n",
              "      height: 32px;\n",
              "      padding: 0 0 0 0;\n",
              "      width: 32px;\n",
              "    }\n",
              "\n",
              "    .colab-df-convert:hover {\n",
              "      background-color: #E2EBFA;\n",
              "      box-shadow: 0px 1px 2px rgba(60, 64, 67, 0.3), 0px 1px 3px 1px rgba(60, 64, 67, 0.15);\n",
              "      fill: #174EA6;\n",
              "    }\n",
              "\n",
              "    [theme=dark] .colab-df-convert {\n",
              "      background-color: #3B4455;\n",
              "      fill: #D2E3FC;\n",
              "    }\n",
              "\n",
              "    [theme=dark] .colab-df-convert:hover {\n",
              "      background-color: #434B5C;\n",
              "      box-shadow: 0px 1px 3px 1px rgba(0, 0, 0, 0.15);\n",
              "      filter: drop-shadow(0px 1px 2px rgba(0, 0, 0, 0.3));\n",
              "      fill: #FFFFFF;\n",
              "    }\n",
              "  </style>\n",
              "\n",
              "      <script>\n",
              "        const buttonEl =\n",
              "          document.querySelector('#df-ecf0f4f1-c650-4722-8ed9-bc54c71ac6ff button.colab-df-convert');\n",
              "        buttonEl.style.display =\n",
              "          google.colab.kernel.accessAllowed ? 'block' : 'none';\n",
              "\n",
              "        async function convertToInteractive(key) {\n",
              "          const element = document.querySelector('#df-ecf0f4f1-c650-4722-8ed9-bc54c71ac6ff');\n",
              "          const dataTable =\n",
              "            await google.colab.kernel.invokeFunction('convertToInteractive',\n",
              "                                                     [key], {});\n",
              "          if (!dataTable) return;\n",
              "\n",
              "          const docLinkHtml = 'Like what you see? Visit the ' +\n",
              "            '<a target=\"_blank\" href=https://colab.research.google.com/notebooks/data_table.ipynb>data table notebook</a>'\n",
              "            + ' to learn more about interactive tables.';\n",
              "          element.innerHTML = '';\n",
              "          dataTable['output_type'] = 'display_data';\n",
              "          await google.colab.output.renderOutput(dataTable, element);\n",
              "          const docLink = document.createElement('div');\n",
              "          docLink.innerHTML = docLinkHtml;\n",
              "          element.appendChild(docLink);\n",
              "        }\n",
              "      </script>\n",
              "    </div>\n",
              "  </div>\n",
              "  "
            ]
          },
          "metadata": {},
          "execution_count": 34
        }
      ]
    },
    {
      "cell_type": "code",
      "source": [
        "# A losing streak is defined as the number of consecutive trades in which the Pnl < 0\n",
        "loosing_streak = df[df['Pnl'].sort_values() <= 0]\n",
        "loosing_streak"
      ],
      "metadata": {
        "colab": {
          "base_uri": "https://localhost:8080/",
          "height": 178
        },
        "id": "TBIvIuDo6XFr",
        "outputId": "91d174cb-9f01-458b-c860-7f6d0169cb87"
      },
      "execution_count": null,
      "outputs": [
        {
          "output_type": "stream",
          "name": "stderr",
          "text": [
            "<ipython-input-32-350b8cf4d188>:1: UserWarning: Boolean Series key will be reindexed to match DataFrame index.\n",
            "  loosing_streak = df[df['Pnl'].sort_values() <= 0]\n"
          ]
        },
        {
          "output_type": "execute_result",
          "data": {
            "text/plain": [
              "             Date             Key        ExitTime                   Symbol  \\\n",
              "2  8/3/2020 10:16   8/3/2020 9:20  8/3/2020 10:16  BANKNIFTY06AUG2021200CE   \n",
              "4  8/3/2020 10:49  8/3/2020 10:25  8/3/2020 10:49      NIFTY06AUG2011000PE   \n",
              "5  8/3/2020 12:26  8/3/2020 10:52  8/3/2020 12:26      NIFTY06AUG2010950PE   \n",
              "\n",
              "   EntryPrice  ExitPrice  Quantity     Pnl ExitType  SignalType  \n",
              "2      441.15     472.15       -25 -775.00    SlHit  VolPattern  \n",
              "4      113.00     117.95       -75 -371.25    SlHit  VolPattern  \n",
              "5       88.70      92.80       -75 -307.50    SlHit  VolPattern  "
            ],
            "text/html": [
              "\n",
              "  <div id=\"df-94082804-5d23-4ff4-b029-8f7e883e68fc\">\n",
              "    <div class=\"colab-df-container\">\n",
              "      <div>\n",
              "<style scoped>\n",
              "    .dataframe tbody tr th:only-of-type {\n",
              "        vertical-align: middle;\n",
              "    }\n",
              "\n",
              "    .dataframe tbody tr th {\n",
              "        vertical-align: top;\n",
              "    }\n",
              "\n",
              "    .dataframe thead th {\n",
              "        text-align: right;\n",
              "    }\n",
              "</style>\n",
              "<table border=\"1\" class=\"dataframe\">\n",
              "  <thead>\n",
              "    <tr style=\"text-align: right;\">\n",
              "      <th></th>\n",
              "      <th>Date</th>\n",
              "      <th>Key</th>\n",
              "      <th>ExitTime</th>\n",
              "      <th>Symbol</th>\n",
              "      <th>EntryPrice</th>\n",
              "      <th>ExitPrice</th>\n",
              "      <th>Quantity</th>\n",
              "      <th>Pnl</th>\n",
              "      <th>ExitType</th>\n",
              "      <th>SignalType</th>\n",
              "    </tr>\n",
              "  </thead>\n",
              "  <tbody>\n",
              "    <tr>\n",
              "      <th>2</th>\n",
              "      <td>8/3/2020 10:16</td>\n",
              "      <td>8/3/2020 9:20</td>\n",
              "      <td>8/3/2020 10:16</td>\n",
              "      <td>BANKNIFTY06AUG2021200CE</td>\n",
              "      <td>441.15</td>\n",
              "      <td>472.15</td>\n",
              "      <td>-25</td>\n",
              "      <td>-775.00</td>\n",
              "      <td>SlHit</td>\n",
              "      <td>VolPattern</td>\n",
              "    </tr>\n",
              "    <tr>\n",
              "      <th>4</th>\n",
              "      <td>8/3/2020 10:49</td>\n",
              "      <td>8/3/2020 10:25</td>\n",
              "      <td>8/3/2020 10:49</td>\n",
              "      <td>NIFTY06AUG2011000PE</td>\n",
              "      <td>113.00</td>\n",
              "      <td>117.95</td>\n",
              "      <td>-75</td>\n",
              "      <td>-371.25</td>\n",
              "      <td>SlHit</td>\n",
              "      <td>VolPattern</td>\n",
              "    </tr>\n",
              "    <tr>\n",
              "      <th>5</th>\n",
              "      <td>8/3/2020 12:26</td>\n",
              "      <td>8/3/2020 10:52</td>\n",
              "      <td>8/3/2020 12:26</td>\n",
              "      <td>NIFTY06AUG2010950PE</td>\n",
              "      <td>88.70</td>\n",
              "      <td>92.80</td>\n",
              "      <td>-75</td>\n",
              "      <td>-307.50</td>\n",
              "      <td>SlHit</td>\n",
              "      <td>VolPattern</td>\n",
              "    </tr>\n",
              "  </tbody>\n",
              "</table>\n",
              "</div>\n",
              "      <button class=\"colab-df-convert\" onclick=\"convertToInteractive('df-94082804-5d23-4ff4-b029-8f7e883e68fc')\"\n",
              "              title=\"Convert this dataframe to an interactive table.\"\n",
              "              style=\"display:none;\">\n",
              "        \n",
              "  <svg xmlns=\"http://www.w3.org/2000/svg\" height=\"24px\"viewBox=\"0 0 24 24\"\n",
              "       width=\"24px\">\n",
              "    <path d=\"M0 0h24v24H0V0z\" fill=\"none\"/>\n",
              "    <path d=\"M18.56 5.44l.94 2.06.94-2.06 2.06-.94-2.06-.94-.94-2.06-.94 2.06-2.06.94zm-11 1L8.5 8.5l.94-2.06 2.06-.94-2.06-.94L8.5 2.5l-.94 2.06-2.06.94zm10 10l.94 2.06.94-2.06 2.06-.94-2.06-.94-.94-2.06-.94 2.06-2.06.94z\"/><path d=\"M17.41 7.96l-1.37-1.37c-.4-.4-.92-.59-1.43-.59-.52 0-1.04.2-1.43.59L10.3 9.45l-7.72 7.72c-.78.78-.78 2.05 0 2.83L4 21.41c.39.39.9.59 1.41.59.51 0 1.02-.2 1.41-.59l7.78-7.78 2.81-2.81c.8-.78.8-2.07 0-2.86zM5.41 20L4 18.59l7.72-7.72 1.47 1.35L5.41 20z\"/>\n",
              "  </svg>\n",
              "      </button>\n",
              "      \n",
              "  <style>\n",
              "    .colab-df-container {\n",
              "      display:flex;\n",
              "      flex-wrap:wrap;\n",
              "      gap: 12px;\n",
              "    }\n",
              "\n",
              "    .colab-df-convert {\n",
              "      background-color: #E8F0FE;\n",
              "      border: none;\n",
              "      border-radius: 50%;\n",
              "      cursor: pointer;\n",
              "      display: none;\n",
              "      fill: #1967D2;\n",
              "      height: 32px;\n",
              "      padding: 0 0 0 0;\n",
              "      width: 32px;\n",
              "    }\n",
              "\n",
              "    .colab-df-convert:hover {\n",
              "      background-color: #E2EBFA;\n",
              "      box-shadow: 0px 1px 2px rgba(60, 64, 67, 0.3), 0px 1px 3px 1px rgba(60, 64, 67, 0.15);\n",
              "      fill: #174EA6;\n",
              "    }\n",
              "\n",
              "    [theme=dark] .colab-df-convert {\n",
              "      background-color: #3B4455;\n",
              "      fill: #D2E3FC;\n",
              "    }\n",
              "\n",
              "    [theme=dark] .colab-df-convert:hover {\n",
              "      background-color: #434B5C;\n",
              "      box-shadow: 0px 1px 3px 1px rgba(0, 0, 0, 0.15);\n",
              "      filter: drop-shadow(0px 1px 2px rgba(0, 0, 0, 0.3));\n",
              "      fill: #FFFFFF;\n",
              "    }\n",
              "  </style>\n",
              "\n",
              "      <script>\n",
              "        const buttonEl =\n",
              "          document.querySelector('#df-94082804-5d23-4ff4-b029-8f7e883e68fc button.colab-df-convert');\n",
              "        buttonEl.style.display =\n",
              "          google.colab.kernel.accessAllowed ? 'block' : 'none';\n",
              "\n",
              "        async function convertToInteractive(key) {\n",
              "          const element = document.querySelector('#df-94082804-5d23-4ff4-b029-8f7e883e68fc');\n",
              "          const dataTable =\n",
              "            await google.colab.kernel.invokeFunction('convertToInteractive',\n",
              "                                                     [key], {});\n",
              "          if (!dataTable) return;\n",
              "\n",
              "          const docLinkHtml = 'Like what you see? Visit the ' +\n",
              "            '<a target=\"_blank\" href=https://colab.research.google.com/notebooks/data_table.ipynb>data table notebook</a>'\n",
              "            + ' to learn more about interactive tables.';\n",
              "          element.innerHTML = '';\n",
              "          dataTable['output_type'] = 'display_data';\n",
              "          await google.colab.output.renderOutput(dataTable, element);\n",
              "          const docLink = document.createElement('div');\n",
              "          docLink.innerHTML = docLinkHtml;\n",
              "          element.appendChild(docLink);\n",
              "        }\n",
              "      </script>\n",
              "    </div>\n",
              "  </div>\n",
              "  "
            ]
          },
          "metadata": {},
          "execution_count": 32
        }
      ]
    },
    {
      "cell_type": "code",
      "source": [
        "# The top winning streak will be the one where the total Pnl of all trades in the streak is the highest, n = 3\n",
        "df['Pnl'].sort_values(ascending = False).head(3).sum()"
      ],
      "metadata": {
        "id": "ejlZ--GAqjY8"
      },
      "execution_count": null,
      "outputs": []
    },
    {
      "cell_type": "code",
      "source": [
        "# the top losing streak will be the one where the total Pnl of all trades is the lowest, n = 3\n",
        "df['Pnl'].sort_values(ascending = True).tail(3).sum()"
      ],
      "metadata": {
        "id": "Q865VdJfsoEE"
      },
      "execution_count": null,
      "outputs": []
    },
    {
      "cell_type": "code",
      "source": [
        "#saved in a txt file named combined_winning_losing.txt\n",
        "df.to_csv('combined_winning_losing.txt')"
      ],
      "metadata": {
        "id": "0OYdfmKPwjJM"
      },
      "execution_count": null,
      "outputs": []
    }
  ]
}